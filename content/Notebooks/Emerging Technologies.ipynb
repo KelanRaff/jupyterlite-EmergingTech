{
 "cells": [
  {
   "cell_type": "markdown",
   "id": "dbc443ea",
   "metadata": {},
   "source": [
    "# Emerging Technologies\n",
    "##### G00382023\n",
    "Lecturer:Dr.Ian Mcloughlin <br>\n",
    "Student: Kelan Rafferty<br>\n"
   ]
  },
  {
   "cell_type": "markdown",
   "id": "47608e02",
   "metadata": {},
   "source": [
    "### Introduction\n",
    "This Jupyter notebook is comprised of notes from my \"Emerging Technologies\" module undertaken in year 4 of my Atlantic Technological university degree. It is divided into topics which focus heavily on new technologies being developed around the world with a focus on computer science.\n",
    "\n",
    "The topics we will cover are listed below:\n",
    "\n",
    "Topic 1: Github Pages<br>\n",
    "Topic 2: Jupyter Lite<br>\n",
    "Topic 3: Computation<br>\n",
    "Topic 4: Fourier Transform<br>\n",
    "Topic 5: Quantum Computing<br>"
   ]
  },
  {
   "cell_type": "code",
   "execution_count": null,
   "id": "4a58bf67",
   "metadata": {},
   "outputs": [],
   "source": []
  },
  {
   "cell_type": "code",
   "execution_count": null,
   "id": "b43ede44",
   "metadata": {},
   "outputs": [],
   "source": []
  },
  {
   "cell_type": "code",
   "execution_count": null,
   "id": "2b3b7f74",
   "metadata": {},
   "outputs": [],
   "source": []
  }
 ],
 "metadata": {
  "kernelspec": {
   "display_name": "Python 3 (ipykernel)",
   "language": "python",
   "name": "python3"
  },
  "language_info": {
   "codemirror_mode": {
    "name": "ipython",
    "version": 3
   },
   "file_extension": ".py",
   "mimetype": "text/x-python",
   "name": "python",
   "nbconvert_exporter": "python",
   "pygments_lexer": "ipython3",
   "version": "3.9.13"
  }
 },
 "nbformat": 4,
 "nbformat_minor": 5
}
